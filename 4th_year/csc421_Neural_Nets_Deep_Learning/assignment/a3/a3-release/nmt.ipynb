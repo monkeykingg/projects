{
  "nbformat": 4,
  "nbformat_minor": 0,
  "metadata": {
    "colab": {
      "name": "nmt.ipynb",
      "version": "0.3.2",
      "provenance": [],
      "collapsed_sections": [],
      "toc_visible": true
    },
    "kernelspec": {
      "name": "python2",
      "display_name": "Python 2"
    },
    "accelerator": "GPU"
  },
  "cells": [
    {
      "metadata": {
        "id": "TjPTaRB4mpCd",
        "colab_type": "text"
      },
      "cell_type": "markdown",
      "source": [
        "# Colab FAQ\n",
        "\n",
        "For some basic overview and features offered in Colab notebooks, check out: [Overview of Colaboratory Features](https://colab.research.google.com/notebooks/basic_features_overview.ipynb)\n",
        "\n",
        "You need to use the colab GPU for this assignmentby selecting:\n",
        "\n",
        "> **Runtime**   →   **Change runtime type**   →   **Hardware Accelerator: GPU**"
      ]
    },
    {
      "metadata": {
        "id": "s9IS9B9-yUU5",
        "colab_type": "text"
      },
      "cell_type": "markdown",
      "source": [
        "## Setup PyTorch\n",
        "All files are stored at /content/csc421/a3/ folder\n"
      ]
    },
    {
      "metadata": {
        "id": "Z-6MQhMOlHXD",
        "colab_type": "code",
        "outputId": "0ec2d1da-eb28-40bf-a0df-2a0be1ed1160",
        "colab": {
          "base_uri": "https://localhost:8080/",
          "height": 634
        }
      },
      "cell_type": "code",
      "source": [
        "######################################################################\n",
        "# Setup python environment and change the current working directory\n",
        "######################################################################\n",
        "!pip install torch torchvision\n",
        "!pip install Pillow==4.0.0\n",
        "%mkdir -p /content/csc421/a3/\n",
        "%cd /content/csc421/a3"
      ],
      "execution_count": 260,
      "outputs": [
        {
          "output_type": "stream",
          "text": [
            "Requirement already satisfied: torch in /usr/local/lib/python2.7/dist-packages (1.0.1.post2)\n",
            "Requirement already satisfied: torchvision in /usr/local/lib/python2.7/dist-packages (0.2.2.post3)\n",
            "Requirement already satisfied: six in /usr/local/lib/python2.7/dist-packages (from torchvision) (1.11.0)\n",
            "Requirement already satisfied: numpy in /usr/local/lib/python2.7/dist-packages (from torchvision) (1.14.6)\n",
            "Collecting pillow>=4.1.1 (from torchvision)\n",
            "  Using cached https://files.pythonhosted.org/packages/0d/f3/421598450cb9503f4565d936860763b5af413a61009d87a5ab1e34139672/Pillow-5.4.1-cp27-cp27mu-manylinux1_x86_64.whl\n",
            "\u001b[31mfastai 0.7.0 has requirement torch<0.4, but you'll have torch 1.0.1.post2 which is incompatible.\u001b[0m\n",
            "\u001b[31mimgaug 0.2.8 has requirement numpy>=1.15.0, but you'll have numpy 1.14.6 which is incompatible.\u001b[0m\n",
            "Installing collected packages: pillow\n",
            "  Found existing installation: Pillow 4.0.0\n",
            "    Uninstalling Pillow-4.0.0:\n",
            "      Successfully uninstalled Pillow-4.0.0\n",
            "Successfully installed pillow-5.4.1\n"
          ],
          "name": "stdout"
        },
        {
          "output_type": "display_data",
          "data": {
            "application/vnd.colab-display-data+json": {
              "pip_warning": {
                "packages": [
                  "PIL"
                ]
              }
            }
          },
          "metadata": {
            "tags": []
          }
        },
        {
          "output_type": "stream",
          "text": [
            "Collecting Pillow==4.0.0\n",
            "  Using cached https://files.pythonhosted.org/packages/89/99/0e3522a9764fe371bf9f7729404b1ef7d9c4fc49cbe5f1761c6e07812345/Pillow-4.0.0-cp27-cp27mu-manylinux1_x86_64.whl\n",
            "Requirement already satisfied: olefile in /usr/local/lib/python2.7/dist-packages (from Pillow==4.0.0) (0.46)\n",
            "\u001b[31mfastai 0.7.0 has requirement torch<0.4, but you'll have torch 1.0.1.post2 which is incompatible.\u001b[0m\n",
            "\u001b[31mimgaug 0.2.8 has requirement numpy>=1.15.0, but you'll have numpy 1.14.6 which is incompatible.\u001b[0m\n",
            "\u001b[31mtorchvision 0.2.2.post3 has requirement pillow>=4.1.1, but you'll have pillow 4.0.0 which is incompatible.\u001b[0m\n",
            "Installing collected packages: Pillow\n",
            "  Found existing installation: Pillow 5.4.1\n",
            "    Uninstalling Pillow-5.4.1:\n",
            "      Successfully uninstalled Pillow-5.4.1\n",
            "Successfully installed Pillow-4.0.0\n"
          ],
          "name": "stdout"
        },
        {
          "output_type": "display_data",
          "data": {
            "application/vnd.colab-display-data+json": {
              "pip_warning": {
                "packages": [
                  "PIL"
                ]
              }
            }
          },
          "metadata": {
            "tags": []
          }
        },
        {
          "output_type": "stream",
          "text": [
            "/content/csc421/a3\n"
          ],
          "name": "stdout"
        }
      ]
    },
    {
      "metadata": {
        "id": "9DaTdRNuUra7",
        "colab_type": "text"
      },
      "cell_type": "markdown",
      "source": [
        "# Helper code"
      ]
    },
    {
      "metadata": {
        "id": "4BIpGwANoQOg",
        "colab_type": "text"
      },
      "cell_type": "markdown",
      "source": [
        "## Utility functions"
      ]
    },
    {
      "metadata": {
        "id": "D-UJHBYZkh7f",
        "colab_type": "code",
        "colab": {}
      },
      "cell_type": "code",
      "source": [
        "import os\n",
        "import pdb\n",
        "import argparse\n",
        "import pickle as pkl\n",
        "\n",
        "from collections import defaultdict\n",
        "\n",
        "import numpy as np\n",
        "import matplotlib as mpl\n",
        "import matplotlib.pyplot as plt\n",
        "import matplotlib.ticker as ticker\n",
        "\n",
        "import torch\n",
        "import torch.nn as nn\n",
        "import torch.optim as optim\n",
        "import torch.nn.functional as F\n",
        "from torch.autograd import Variable\n",
        "\n",
        "from six.moves.urllib.request import urlretrieve\n",
        "import tarfile\n",
        "import pickle\n",
        "import sys\n",
        "\n",
        "\n",
        "def get_file(fname,\n",
        "             origin,\n",
        "             untar=False,\n",
        "             extract=False,\n",
        "             archive_format='auto',\n",
        "             cache_dir='data'):\n",
        "    datadir = os.path.join(cache_dir)\n",
        "    if not os.path.exists(datadir):\n",
        "        os.makedirs(datadir)\n",
        "\n",
        "    if untar:\n",
        "        untar_fpath = os.path.join(datadir, fname)\n",
        "        fpath = untar_fpath + '.tar.gz'\n",
        "    else:\n",
        "        fpath = os.path.join(datadir, fname)\n",
        "    \n",
        "    print(fpath)\n",
        "    if not os.path.exists(fpath):\n",
        "        print('Downloading data from', origin)\n",
        "\n",
        "        error_msg = 'URL fetch failure on {}: {} -- {}'\n",
        "        try:\n",
        "            try:\n",
        "                urlretrieve(origin, fpath)\n",
        "            except URLError as e:\n",
        "                raise Exception(error_msg.format(origin, e.errno, e.reason))\n",
        "            except HTTPError as e:\n",
        "                raise Exception(error_msg.format(origin, e.code, e.msg))\n",
        "        except (Exception, KeyboardInterrupt) as e:\n",
        "            if os.path.exists(fpath):\n",
        "                os.remove(fpath)\n",
        "            raise\n",
        "\n",
        "    if untar:\n",
        "        if not os.path.exists(untar_fpath):\n",
        "            print('Extracting file.')\n",
        "            with tarfile.open(fpath) as archive:\n",
        "                archive.extractall(datadir)\n",
        "        return untar_fpath\n",
        "\n",
        "    if extract:\n",
        "        _extract_archive(fpath, datadir, archive_format)\n",
        "\n",
        "    return fpath\n",
        "\n",
        "class AttrDict(dict):\n",
        "    def __init__(self, *args, **kwargs):\n",
        "        super(AttrDict, self).__init__(*args, **kwargs)\n",
        "        self.__dict__ = self\n",
        "        \n",
        "def to_var(tensor, cuda):\n",
        "    \"\"\"Wraps a Tensor in a Variable, optionally placing it on the GPU.\n",
        "\n",
        "        Arguments:\n",
        "            tensor: A Tensor object.\n",
        "            cuda: A boolean flag indicating whether to use the GPU.\n",
        "\n",
        "        Returns:\n",
        "            A Variable object, on the GPU if cuda==True.\n",
        "    \"\"\"\n",
        "    if cuda:\n",
        "        return Variable(tensor.cuda())\n",
        "    else:\n",
        "        return Variable(tensor)\n",
        "\n",
        "\n",
        "def create_dir_if_not_exists(directory):\n",
        "    \"\"\"Creates a directory if it doesn't already exist.\n",
        "    \"\"\"\n",
        "    if not os.path.exists(directory):\n",
        "        os.makedirs(directory)\n",
        "\n",
        "\n",
        "def save_loss_plot(train_losses, val_losses, opts):\n",
        "    \"\"\"Saves a plot of the training and validation loss curves.\n",
        "    \"\"\"\n",
        "    plt.figure()\n",
        "    plt.plot(range(len(train_losses)), train_losses)\n",
        "    plt.plot(range(len(val_losses)), val_losses)\n",
        "    plt.title('BS={}, nhid={}'.format(opts.batch_size, opts.hidden_size), fontsize=20)\n",
        "    plt.xlabel('Epochs', fontsize=16)\n",
        "    plt.ylabel('Loss', fontsize=16)\n",
        "    plt.xticks(fontsize=14)\n",
        "    plt.yticks(fontsize=14)\n",
        "    plt.tight_layout()\n",
        "    plt.savefig(os.path.join(opts.checkpoint_path, 'loss_plot.pdf'))\n",
        "    plt.close()\n",
        "\n",
        "\n",
        "def checkpoint(encoder, decoder, idx_dict, opts):\n",
        "    \"\"\"Saves the current encoder and decoder models, along with idx_dict, which\n",
        "    contains the char_to_index and index_to_char mappings, and the start_token\n",
        "    and end_token values.\n",
        "    \"\"\"\n",
        "    with open(os.path.join(opts.checkpoint_path, 'encoder.pt'), 'wb') as f:\n",
        "        torch.save(encoder, f)\n",
        "\n",
        "    with open(os.path.join(opts.checkpoint_path, 'decoder.pt'), 'wb') as f:\n",
        "        torch.save(decoder, f)\n",
        "\n",
        "    with open(os.path.join(opts.checkpoint_path, 'idx_dict.pkl'), 'wb') as f:\n",
        "        pkl.dump(idx_dict, f)\n"
      ],
      "execution_count": 0,
      "outputs": []
    },
    {
      "metadata": {
        "id": "pbvpn4MaV0I1",
        "colab_type": "text"
      },
      "cell_type": "markdown",
      "source": [
        "## Data loader"
      ]
    },
    {
      "metadata": {
        "id": "XVT4TNTOV3Eg",
        "colab_type": "code",
        "colab": {}
      },
      "cell_type": "code",
      "source": [
        "def read_lines(filename):\n",
        "    \"\"\"Read a file and split it into lines.\n",
        "    \"\"\"\n",
        "    lines = open(filename).read().strip().lower().split('\\n')\n",
        "    return lines\n",
        "\n",
        "\n",
        "def read_pairs(filename):\n",
        "    \"\"\"Reads lines that consist of two words, separated by a space.\n",
        "\n",
        "    Returns:\n",
        "        source_words: A list of the first word in each line of the file.\n",
        "        target_words: A list of the second word in each line of the file.\n",
        "    \"\"\"\n",
        "    lines = read_lines(filename)\n",
        "    source_words, target_words = [], []\n",
        "    for line in lines:\n",
        "        line = line.strip()\n",
        "        if line:\n",
        "            source, target = line.split()\n",
        "            source_words.append(source)\n",
        "            target_words.append(target)\n",
        "    return source_words, target_words\n",
        "\n",
        "\n",
        "def all_alpha_or_dash(s):\n",
        "    \"\"\"Helper function to check whether a string is alphabetic, allowing dashes '-'.\n",
        "    \"\"\"\n",
        "    return all(c.isalpha() or c == '-' for c in s)\n",
        "\n",
        "\n",
        "def filter_lines(lines):\n",
        "    \"\"\"Filters lines to consist of only alphabetic characters or dashes \"-\".\n",
        "    \"\"\"\n",
        "    return [line for line in lines if all_alpha_or_dash(line)]\n",
        "\n",
        "\n",
        "def load_data():\n",
        "    \"\"\"Loads (English, Pig-Latin) word pairs, and creates mappings from characters to indexes.\n",
        "    \"\"\"\n",
        "\n",
        "    source_lines, target_lines = read_pairs('data/pig_latin_data.txt')\n",
        "\n",
        "    # Filter lines\n",
        "    source_lines = filter_lines(source_lines)\n",
        "    target_lines = filter_lines(target_lines)\n",
        "\n",
        "    all_characters = set(''.join(source_lines)) | set(''.join(target_lines))\n",
        "\n",
        "    # Create a dictionary mapping each character to a unique index\n",
        "    char_to_index = { char: index for (index, char) in enumerate(sorted(list(all_characters))) }\n",
        "\n",
        "    # Add start and end tokens to the dictionary\n",
        "    start_token = len(char_to_index)\n",
        "    end_token = len(char_to_index) + 1\n",
        "    char_to_index['SOS'] = start_token\n",
        "    char_to_index['EOS'] = end_token\n",
        "\n",
        "    # Create the inverse mapping, from indexes to characters (used to decode the model's predictions)\n",
        "    index_to_char = { index: char for (char, index) in char_to_index.items() }\n",
        "\n",
        "    # Store the final size of the vocabulary\n",
        "    vocab_size = len(char_to_index)\n",
        "\n",
        "    line_pairs = list(set(zip(source_lines, target_lines)))  # Python 3\n",
        "\n",
        "    idx_dict = { 'char_to_index': char_to_index,\n",
        "                 'index_to_char': index_to_char,\n",
        "                 'start_token': start_token,\n",
        "                 'end_token': end_token }\n",
        "\n",
        "    return line_pairs, vocab_size, idx_dict\n",
        "\n",
        "\n",
        "def create_dict(pairs):\n",
        "    \"\"\"Creates a mapping { (source_length, target_length): [list of (source, target) pairs]\n",
        "    This is used to make batches: each batch consists of two parallel tensors, one containing\n",
        "    all source indexes and the other containing all corresponding target indexes.\n",
        "    Within a batch, all the source words are the same length, and all the target words are\n",
        "    the same length.\n",
        "    \"\"\"\n",
        "    unique_pairs = list(set(pairs))  # Find all unique (source, target) pairs\n",
        "\n",
        "    d = defaultdict(list)\n",
        "    for (s,t) in unique_pairs:\n",
        "        d[(len(s), len(t))].append((s,t))\n",
        "\n",
        "    return d\n"
      ],
      "execution_count": 0,
      "outputs": []
    },
    {
      "metadata": {
        "id": "bRWfRdmVVjUl",
        "colab_type": "text"
      },
      "cell_type": "markdown",
      "source": [
        "## Training and evaluation code"
      ]
    },
    {
      "metadata": {
        "id": "wa5-onJhoSeM",
        "colab_type": "code",
        "colab": {}
      },
      "cell_type": "code",
      "source": [
        "def string_to_index_list(s, char_to_index, end_token):\n",
        "    \"\"\"Converts a sentence into a list of indexes (for each character).\n",
        "    \"\"\"\n",
        "    return [char_to_index[char] for char in s] + [end_token]  # Adds the end token to each index list\n",
        "\n",
        "\n",
        "def translate_sentence(sentence, encoder, decoder, idx_dict, opts):\n",
        "    \"\"\"Translates a sentence from English to Pig-Latin, by splitting the sentence into\n",
        "    words (whitespace-separated), running the encoder-decoder model to translate each\n",
        "    word independently, and then stitching the words back together with spaces between them.\n",
        "    \"\"\"\n",
        "    if idx_dict is None:\n",
        "      line_pairs, vocab_size, idx_dict = load_data()\n",
        "    return ' '.join([translate(word, encoder, decoder, idx_dict, opts) for word in sentence.split()])\n",
        "\n",
        "\n",
        "def translate(input_string, encoder, decoder, idx_dict, opts):\n",
        "    \"\"\"Translates a given string from English to Pig-Latin.\n",
        "    \"\"\"\n",
        "\n",
        "    char_to_index = idx_dict['char_to_index']\n",
        "    index_to_char = idx_dict['index_to_char']\n",
        "    start_token = idx_dict['start_token']\n",
        "    end_token = idx_dict['end_token']\n",
        "\n",
        "    max_generated_chars = 20\n",
        "    gen_string = ''\n",
        "\n",
        "    indexes = string_to_index_list(input_string, char_to_index, end_token)\n",
        "    indexes = to_var(torch.LongTensor(indexes).unsqueeze(0), opts.cuda)  # Unsqueeze to make it like BS = 1\n",
        "\n",
        "    encoder_annotations, encoder_last_hidden = encoder(indexes)\n",
        "\n",
        "    decoder_hidden = encoder_last_hidden\n",
        "    decoder_input = to_var(torch.LongTensor([[start_token]]), opts.cuda)  # For BS = 1\n",
        "    decoder_inputs = decoder_input\n",
        "\n",
        "    for i in range(max_generated_chars):\n",
        "      ## slow decoding, recompute everything at each time\n",
        "      decoder_outputs, attention_weights = decoder(decoder_inputs, encoder_annotations, decoder_hidden)\n",
        "      generated_words = F.softmax(decoder_outputs, dim=2).max(2)[1]\n",
        "      ni = generated_words.cpu().numpy().reshape(-1)  # LongTensor of size 1\n",
        "      ni = ni[-1] #latest output token\n",
        "\n",
        "      decoder_inputs = torch.cat([decoder_input, generated_words], dim=1)\n",
        "      \n",
        "      if ni == end_token:\n",
        "          break\n",
        "      else:\n",
        "          gen_string = \"\".join(\n",
        "              [index_to_char[int(item)] \n",
        "               for item in generated_words.cpu().numpy().reshape(-1)])\n",
        "\n",
        "    return gen_string\n",
        "\n",
        "\n",
        "def visualize_attention(input_string, encoder, decoder, idx_dict, opts):\n",
        "    \"\"\"Generates a heatmap to show where attention is focused in each decoder step.\n",
        "    \"\"\"\n",
        "    if idx_dict is None:\n",
        "      line_pairs, vocab_size, idx_dict = load_data()\n",
        "    char_to_index = idx_dict['char_to_index']\n",
        "    index_to_char = idx_dict['index_to_char']\n",
        "    start_token = idx_dict['start_token']\n",
        "    end_token = idx_dict['end_token']\n",
        "\n",
        "    max_generated_chars = 20\n",
        "    gen_string = ''\n",
        "\n",
        "    indexes = string_to_index_list(input_string, char_to_index, end_token)\n",
        "    indexes = to_var(torch.LongTensor(indexes).unsqueeze(0), opts.cuda)  # Unsqueeze to make it like BS = 1\n",
        "\n",
        "    encoder_annotations, encoder_hidden = encoder(indexes)\n",
        "\n",
        "    decoder_hidden = encoder_hidden\n",
        "    decoder_input = to_var(torch.LongTensor([[start_token]]), opts.cuda)  # For BS = 1\n",
        "    decoder_inputs = decoder_input\n",
        "\n",
        "    produced_end_token = False\n",
        "\n",
        "    for i in range(max_generated_chars):\n",
        "      ## slow decoding, recompute everything at each time\n",
        "      decoder_outputs, attention_weights = decoder(decoder_inputs, encoder_annotations, decoder_hidden)\n",
        "      generated_words = F.softmax(decoder_outputs, dim=2).max(2)[1]\n",
        "      ni = generated_words.cpu().numpy().reshape(-1)  # LongTensor of size 1\n",
        "      ni = ni[-1] #latest output token\n",
        "      \n",
        "      decoder_inputs = torch.cat([decoder_input, generated_words], dim=1)\n",
        "      \n",
        "      if ni == end_token:\n",
        "          break\n",
        "      else:\n",
        "          gen_string = \"\".join(\n",
        "              [index_to_char[int(item)] \n",
        "               for item in generated_words.cpu().numpy().reshape(-1)])\n",
        "    \n",
        "    if isinstance(attention_weights, tuple):\n",
        "      ## transformer's attention mweights\n",
        "      attention_weights, self_attention_weights = attention_weights\n",
        "    \n",
        "    all_attention_weights = attention_weights.data.cpu().numpy()\n",
        "    \n",
        "    for i in range(len(all_attention_weights)):\n",
        "      attention_weights_matrix = all_attention_weights[i].squeeze()\n",
        "      fig = plt.figure()\n",
        "      ax = fig.add_subplot(111)\n",
        "      cax = ax.matshow(attention_weights_matrix, cmap='bone')\n",
        "      fig.colorbar(cax)\n",
        "\n",
        "      # Set up axes\n",
        "      ax.set_yticklabels([''] + list(input_string) + ['EOS'], rotation=90)\n",
        "      ax.set_xticklabels([''] + list(gen_string) + (['EOS'] if produced_end_token else []))\n",
        "\n",
        "      # Show label at every tick\n",
        "      ax.xaxis.set_major_locator(ticker.MultipleLocator(1))\n",
        "      ax.yaxis.set_major_locator(ticker.MultipleLocator(1))\n",
        "      # Add title\n",
        "      plt.xlabel('Attention weights to the source sentence in layer {}'.format(i+1))\n",
        "      plt.tight_layout()\n",
        "      plt.grid('off')\n",
        "      plt.show()\n",
        "      #plt.savefig(save)\n",
        "\n",
        "      #plt.close(fig)\n",
        "\n",
        "    return gen_string\n",
        "\n",
        "\n",
        "def compute_loss(data_dict, encoder, decoder, idx_dict, criterion, optimizer, opts):\n",
        "    \"\"\"Train/Evaluate the model on a dataset.\n",
        "\n",
        "    Arguments:\n",
        "        data_dict: The validation/test word pairs, organized by source and target lengths.\n",
        "        encoder: An encoder model to produce annotations for each step of the input sequence.\n",
        "        decoder: A decoder model (with or without attention) to generate output tokens.\n",
        "        idx_dict: Contains char-to-index and index-to-char mappings, and start & end token indexes.\n",
        "        criterion: Used to compute the CrossEntropyLoss for each decoder output.\n",
        "        optimizer: Train the weights if an optimizer is given. None if only evaluate the model. \n",
        "        opts: The command-line arguments.\n",
        "\n",
        "    Returns:\n",
        "        mean_loss: The average loss over all batches from data_dict.\n",
        "    \"\"\"\n",
        "    start_token = idx_dict['start_token']\n",
        "    end_token = idx_dict['end_token']\n",
        "    char_to_index = idx_dict['char_to_index']\n",
        "\n",
        "    losses = []\n",
        "    for key in data_dict:\n",
        "        input_strings, target_strings = zip(*data_dict[key])\n",
        "        input_tensors = [torch.LongTensor(string_to_index_list(s, char_to_index, end_token)) for s in input_strings]\n",
        "        target_tensors = [torch.LongTensor(string_to_index_list(s, char_to_index, end_token)) for s in target_strings]\n",
        "\n",
        "        num_tensors = len(input_tensors)\n",
        "        num_batches = int(np.ceil(num_tensors / float(opts.batch_size)))\n",
        "\n",
        "        for i in range(num_batches):\n",
        "\n",
        "            start = i * opts.batch_size\n",
        "            end = start + opts.batch_size\n",
        "\n",
        "            inputs = to_var(torch.stack(input_tensors[start:end]), opts.cuda)\n",
        "            targets = to_var(torch.stack(target_tensors[start:end]), opts.cuda)\n",
        "\n",
        "            # The batch size may be different in each epoch\n",
        "            BS = inputs.size(0)\n",
        "\n",
        "            encoder_annotations, encoder_hidden = encoder(inputs)\n",
        "\n",
        "            # The last hidden state of the encoder becomes the first hidden state of the decoder\n",
        "            decoder_hidden = encoder_hidden\n",
        "\n",
        "            start_vector = torch.ones(BS).long().unsqueeze(1) * start_token  # BS x 1 --> 16x1  CHECKED\n",
        "            decoder_input = to_var(start_vector, opts.cuda)  # BS x 1 --> 16x1  CHECKED\n",
        "\n",
        "            loss = 0.0\n",
        "\n",
        "            seq_len = targets.size(1)  # Gets seq_len from BS x seq_len\n",
        "\n",
        "            decoder_inputs = torch.cat([decoder_input, targets[:, 0:-1]], dim=1)  # Gets decoder inputs by shifting the targets to the right \n",
        "            \n",
        "            decoder_outputs, attention_weights = decoder(decoder_inputs, encoder_annotations, encoder_hidden)\n",
        "            decoder_outputs_flatten = decoder_outputs.view(-1, decoder_outputs.size(2))\n",
        "            targets_flatten = targets.view(-1)\n",
        "            loss = criterion(decoder_outputs_flatten, targets_flatten)\n",
        "\n",
        "            losses.append(loss.item())\n",
        "\n",
        "            ## training if an optimizer is provided\n",
        "            if optimizer:\n",
        "              # Zero gradients\n",
        "              optimizer.zero_grad()\n",
        "              # Compute gradients\n",
        "              loss.backward()\n",
        "              # Update the parameters of the encoder and decoder\n",
        "              optimizer.step()\n",
        "              \n",
        "    mean_loss = np.mean(losses)\n",
        "    return mean_loss\n",
        "\n",
        "  \n",
        "\n",
        "def training_loop(train_dict, val_dict, idx_dict, encoder, decoder, criterion, optimizer, opts):\n",
        "    \"\"\"Runs the main training loop; evaluates the model on the val set every epoch.\n",
        "        * Prints training and val loss each epoch.\n",
        "        * Prints qualitative translation results each epoch using TEST_SENTENCE\n",
        "        * Saves an attention map for TEST_WORD_ATTN each epoch\n",
        "\n",
        "    Arguments:\n",
        "        train_dict: The training word pairs, organized by source and target lengths.\n",
        "        val_dict: The validation word pairs, organized by source and target lengths.\n",
        "        idx_dict: Contains char-to-index and index-to-char mappings, and start & end token indexes.\n",
        "        encoder: An encoder model to produce annotations for each step of the input sequence.\n",
        "        decoder: A decoder model (with or without attention) to generate output tokens.\n",
        "        criterion: Used to compute the CrossEntropyLoss for each decoder output.\n",
        "        optimizer: Implements a step rule to update the parameters of the encoder and decoder.\n",
        "        opts: The command-line arguments.\n",
        "    \"\"\"\n",
        "\n",
        "    start_token = idx_dict['start_token']\n",
        "    end_token = idx_dict['end_token']\n",
        "    char_to_index = idx_dict['char_to_index']\n",
        "\n",
        "    loss_log = open(os.path.join(opts.checkpoint_path, 'loss_log.txt'), 'w')\n",
        "\n",
        "    best_val_loss = 1e6\n",
        "    train_losses = []\n",
        "    val_losses = []\n",
        "\n",
        "    for epoch in range(opts.nepochs):\n",
        "\n",
        "        optimizer.param_groups[0]['lr'] *= opts.lr_decay\n",
        "        \n",
        "        train_loss = compute_loss(train_dict, encoder, decoder, idx_dict, criterion, optimizer, opts)\n",
        "        val_loss = compute_loss(val_dict, encoder, decoder, idx_dict, criterion, None, opts)\n",
        "\n",
        "        if val_loss < best_val_loss:\n",
        "            checkpoint(encoder, decoder, idx_dict, opts)\n",
        "\n",
        "        gen_string = translate_sentence(TEST_SENTENCE, encoder, decoder, idx_dict, opts)\n",
        "        print(\"Epoch: {:3d} | Train loss: {:.3f} | Val loss: {:.3f} | Gen: {:20s}\".format(epoch, train_loss, val_loss, gen_string))\n",
        "\n",
        "        loss_log.write('{} {} {}\\n'.format(epoch, train_loss, val_loss))\n",
        "        loss_log.flush()\n",
        "\n",
        "        train_losses.append(train_loss)\n",
        "        val_losses.append(val_loss)\n",
        "\n",
        "        save_loss_plot(train_losses, val_losses, opts)\n",
        "\n",
        "\n",
        "def print_data_stats(line_pairs, vocab_size, idx_dict):\n",
        "    \"\"\"Prints example word pairs, the number of data points, and the vocabulary.\n",
        "    \"\"\"\n",
        "    print('=' * 80)\n",
        "    print('Data Stats'.center(80))\n",
        "    print('-' * 80)\n",
        "    for pair in line_pairs[:5]:\n",
        "        print(pair)\n",
        "    print('Num unique word pairs: {}'.format(len(line_pairs)))\n",
        "    print('Vocabulary: {}'.format(idx_dict['char_to_index'].keys()))\n",
        "    print('Vocab size: {}'.format(vocab_size))\n",
        "    print('=' * 80)\n",
        "\n",
        "\n",
        "def train(opts):\n",
        "    line_pairs, vocab_size, idx_dict = load_data()\n",
        "    print_data_stats(line_pairs, vocab_size, idx_dict)\n",
        "\n",
        "    # Split the line pairs into an 80% train and 20% val split\n",
        "    num_lines = len(line_pairs)\n",
        "    num_train = int(0.8 * num_lines)\n",
        "    train_pairs, val_pairs = line_pairs[:num_train], line_pairs[num_train:]\n",
        "\n",
        "    # Group the data by the lengths of the source and target words, to form batches\n",
        "    train_dict = create_dict(train_pairs)\n",
        "    val_dict = create_dict(val_pairs)\n",
        "\n",
        "    ##########################################################################\n",
        "    ### Setup: Create Encoder, Decoder, Learning Criterion, and Optimizers ###\n",
        "    ##########################################################################\n",
        "    encoder = GRUEncoder(vocab_size=vocab_size, \n",
        "                         hidden_size=opts.hidden_size, \n",
        "                         opts=opts)\n",
        "\n",
        "    if opts.decoder_type == 'rnn':\n",
        "        decoder = RNNDecoder(vocab_size=vocab_size, \n",
        "                             hidden_size=opts.hidden_size)\n",
        "    elif opts.decoder_type == 'rnn_attention':\n",
        "        decoder = RNNAttentionDecoder(vocab_size=vocab_size, \n",
        "                                      hidden_size=opts.hidden_size, \n",
        "                                      attention_type=opts.attention_type)\n",
        "    elif opts.decoder_type == 'transformer':\n",
        "        decoder = TransformerDecoder(vocab_size=vocab_size, \n",
        "                                     hidden_size=opts.hidden_size, \n",
        "                                     num_layers=opts.num_transformer_layers)\n",
        "    else:\n",
        "        raise NotImplementedError\n",
        "        \n",
        "    #### setup checkpoint path\n",
        "    model_name = 'h{}-bs{}-{}'.format(opts.hidden_size, \n",
        "                                      opts.batch_size, \n",
        "                                      opts.decoder_type)\n",
        "    opts.checkpoint_path = model_name\n",
        "    create_dir_if_not_exists(opts.checkpoint_path)\n",
        "    ####\n",
        "\n",
        "    if opts.cuda:\n",
        "        encoder.cuda()\n",
        "        decoder.cuda()\n",
        "        print(\"Moved models to GPU!\")\n",
        "\n",
        "    criterion = nn.CrossEntropyLoss()\n",
        "    optimizer = optim.Adam(list(encoder.parameters()) + list(decoder.parameters()), lr=opts.learning_rate)\n",
        "\n",
        "    try:\n",
        "        training_loop(train_dict, val_dict, idx_dict, encoder, decoder, criterion, optimizer, opts)\n",
        "    except KeyboardInterrupt:\n",
        "        print('Exiting early from training.')\n",
        "        return encoder, decoder\n",
        "      \n",
        "    return encoder, decoder\n",
        "\n",
        "\n",
        "def print_opts(opts):\n",
        "    \"\"\"Prints the values of all command-line arguments.\n",
        "    \"\"\"\n",
        "    print('=' * 80)\n",
        "    print('Opts'.center(80))\n",
        "    print('-' * 80)\n",
        "    for key in opts.__dict__:\n",
        "        print('{:>30}: {:<30}'.format(key, opts.__dict__[key]).center(80))\n",
        "    print('=' * 80)\n"
      ],
      "execution_count": 0,
      "outputs": []
    },
    {
      "metadata": {
        "id": "bXNsLNkOn38w",
        "colab_type": "text"
      },
      "cell_type": "markdown",
      "source": [
        "# Your code for NMT models"
      ]
    },
    {
      "metadata": {
        "id": "_BAfi_8yWB3y",
        "colab_type": "text"
      },
      "cell_type": "markdown",
      "source": [
        "## GRU cell"
      ]
    },
    {
      "metadata": {
        "id": "9ztmyA5Ro67o",
        "colab_type": "code",
        "colab": {}
      },
      "cell_type": "code",
      "source": [
        "class MyGRUCell(nn.Module):\n",
        "    def __init__(self, input_size, hidden_size):\n",
        "        super(MyGRUCell, self).__init__()\n",
        "\n",
        "        self.input_size = input_size\n",
        "        self.hidden_size = hidden_size\n",
        "\n",
        "        # ------------\n",
        "        # FILL THIS IN\n",
        "        # ------------\n",
        "        # Input linear layers\n",
        "        self.Wiz = nn.Linear(self.input_size, self.hidden_size)\n",
        "        self.Wir = nn.Linear(self.input_size, self.hidden_size)\n",
        "        self.Wih = nn.Linear(self.input_size, self.hidden_size)\n",
        "\n",
        "        # Hidden linear layers\n",
        "        self.Whz = nn.Linear(self.hidden_size, self.hidden_size)\n",
        "        self.Whr = nn.Linear(self.hidden_size, self.hidden_size)\n",
        "        self.Whh = nn.Linear(self.hidden_size, self.hidden_size)\n",
        "        \n",
        "\n",
        "\n",
        "    def forward(self, x, h_prev):\n",
        "        \"\"\"Forward pass of the GRU computation for one time step.\n",
        "\n",
        "        Arguments\n",
        "            x: batch_size x input_size\n",
        "            h_prev: batch_size x hidden_size\n",
        "\n",
        "        Returns:\n",
        "            h_new: batch_size x hidden_size\n",
        "        \"\"\"\n",
        "\n",
        "        # ------------\n",
        "        # FILL THIS IN\n",
        "        # ------------\n",
        "        z = F.sigmoid(self.Wiz(x) + self.Whz(h_prev))\n",
        "        r = F.sigmoid(self.Wir(x) + self.Whr(h_prev))\n",
        "        g = F.tanh(self.Wih(x) + r * self.Whh(h_prev))\n",
        "        h_new = (1 - z) * g + z * h_prev\n",
        "        return h_new\n",
        "\n",
        "        "
      ],
      "execution_count": 0,
      "outputs": []
    },
    {
      "metadata": {
        "id": "-JBVFLEZWNC1",
        "colab_type": "text"
      },
      "cell_type": "markdown",
      "source": [
        "### GRU encoder / decoder"
      ]
    },
    {
      "metadata": {
        "id": "xaDt7XDmWRzC",
        "colab_type": "code",
        "colab": {}
      },
      "cell_type": "code",
      "source": [
        "class GRUEncoder(nn.Module):\n",
        "    def __init__(self, vocab_size, hidden_size, opts):\n",
        "        super(GRUEncoder, self).__init__()\n",
        "\n",
        "        self.vocab_size = vocab_size\n",
        "        self.hidden_size = hidden_size\n",
        "        self.opts = opts\n",
        "\n",
        "        self.embedding = nn.Embedding(vocab_size, hidden_size)\n",
        "        self.gru = nn.GRUCell(hidden_size, hidden_size)\n",
        "\n",
        "    def forward(self, inputs):\n",
        "        \"\"\"Forward pass of the encoder RNN.\n",
        "\n",
        "        Arguments:\n",
        "            inputs: Input token indexes across a batch for all time steps in the sequence. (batch_size x seq_len)\n",
        "\n",
        "        Returns:\n",
        "            annotations: The hidden states computed at each step of the input sequence. (batch_size x seq_len x hidden_size)\n",
        "            hidden: The final hidden state of the encoder, for each sequence in a batch. (batch_size x hidden_size)\n",
        "        \"\"\"\n",
        "\n",
        "        batch_size, seq_len = inputs.size()\n",
        "        hidden = self.init_hidden(batch_size)\n",
        "\n",
        "        encoded = self.embedding(inputs)  # batch_size x seq_len x hidden_size\n",
        "        annotations = []\n",
        "\n",
        "        for i in range(seq_len):\n",
        "            x = encoded[:,i,:]  # Get the current time step, across the whole batch\n",
        "            hidden = self.gru(x, hidden)\n",
        "            annotations.append(hidden)\n",
        "\n",
        "        annotations = torch.stack(annotations, dim=1)\n",
        "        return annotations, hidden\n",
        "\n",
        "    def init_hidden(self, bs):\n",
        "        \"\"\"Creates a tensor of zeros to represent the initial hidden states\n",
        "        of a batch of sequences.\n",
        "\n",
        "        Arguments:\n",
        "            bs: The batch size for the initial hidden state.\n",
        "\n",
        "        Returns:\n",
        "            hidden: An initial hidden state of all zeros. (batch_size x hidden_size)\n",
        "        \"\"\"\n",
        "        return to_var(torch.zeros(bs, self.hidden_size), self.opts.cuda)\n",
        "\n",
        "\n",
        "class RNNDecoder(nn.Module):\n",
        "    def __init__(self, vocab_size, hidden_size):\n",
        "        super(RNNDecoder, self).__init__()\n",
        "        self.vocab_size = vocab_size\n",
        "        self.hidden_size = hidden_size\n",
        "\n",
        "        self.embedding = nn.Embedding(vocab_size, hidden_size)\n",
        "        self.rnn = nn.GRUCell(input_size=hidden_size, hidden_size=hidden_size)\n",
        "        self.out = nn.Linear(hidden_size, vocab_size)\n",
        "\n",
        "    def forward(self, inputs, annotations, hidden_init):\n",
        "        \"\"\"Forward pass of the non-attentional decoder RNN.\n",
        "\n",
        "        Arguments:\n",
        "            inputs: Input token indexes across a batch. (batch_size x seq_len)\n",
        "            annotations: This is not used here. It just maintains consistency with the\n",
        "                    interface used by the AttentionDecoder class.\n",
        "            hidden_init: The hidden states from the last step of encoder, across a batch. (batch_size x hidden_size)\n",
        "\n",
        "        Returns:\n",
        "            output: Un-normalized scores for each token in the vocabulary, across a batch for all the decoding time steps. (batch_size x decoder_seq_len x vocab_size)\n",
        "            None\n",
        "        \"\"\"        \n",
        "        batch_size, seq_len = inputs.size()\n",
        "        embed = self.embedding(inputs)  # batch_size x seq_len x hidden_size        \n",
        "\n",
        "        hiddens = []\n",
        "        h_prev = hidden_init\n",
        "        for i in range(seq_len):\n",
        "            x = embed[:,i,:]  # Get the current time step input tokens, across the whole batch\n",
        "            h_prev = self.rnn(x, h_prev)  # batch_size x hidden_size\n",
        "            hiddens.append(h_prev)\n",
        "\n",
        "        hiddens = torch.stack(hiddens, dim=1) # batch_size x seq_len x hidden_size\n",
        "        \n",
        "        output = self.out(hiddens)  # batch_size x seq_len x vocab_size\n",
        "        return output, None      \n"
      ],
      "execution_count": 0,
      "outputs": []
    },
    {
      "metadata": {
        "id": "tWe0RO5FWajD",
        "colab_type": "text"
      },
      "cell_type": "markdown",
      "source": [
        "## Attention"
      ]
    },
    {
      "metadata": {
        "id": "9GUK5A7CWhV8",
        "colab_type": "code",
        "colab": {}
      },
      "cell_type": "code",
      "source": [
        "class AdditiveAttention(nn.Module):\n",
        "    def __init__(self, hidden_size):\n",
        "        super(AdditiveAttention, self).__init__()\n",
        "\n",
        "        self.hidden_size = hidden_size\n",
        "\n",
        "        # A two layer fully-connected network\n",
        "        # hidden_size*2 --> hidden_size, ReLU, hidden_size --> 1\n",
        "        self.attention_network = nn.Sequential(\n",
        "                                    nn.Linear(hidden_size*2, hidden_size),\n",
        "                                    nn.ReLU(),\n",
        "                                    nn.Linear(hidden_size, 1)\n",
        "                                 )\n",
        "\n",
        "        self.softmax = nn.Softmax(dim=1)\n",
        "\n",
        "    def forward(self, queries, keys, values):\n",
        "        \"\"\"The forward pass of the additive attention mechanism.\n",
        "\n",
        "        Arguments:\n",
        "            queries: The current decoder hidden state. (batch_size x hidden_size)\n",
        "            keys: The encoder hidden states for each step of the input sequence. (batch_size x seq_len x hidden_size)\n",
        "            values: The encoder hidden states for each step of the input sequence. (batch_size x seq_len x hidden_size)\n",
        "\n",
        "        Returns:\n",
        "            context: weighted average of the values (batch_size x 1 x hidden_size)\n",
        "            attention_weights: Normalized attention weights for each encoder hidden state. (batch_size x seq_len x 1)\n",
        "\n",
        "            The attention_weights must be a softmax weighting over the seq_len annotations.\n",
        "        \"\"\"\n",
        "\n",
        "        # ------------\n",
        "        # FILL THIS IN\n",
        "        # ------------\n",
        "        batch_size, seq_len, hidden_size = keys.size()\n",
        "        expanded_queries = queries.unsqueeze(1).expand_as(keys)\n",
        "        concat_inputs = torch.cat((expanded_queries, keys), 2)\n",
        "        unnormalized_attention = self.attention_network(concat_inputs.view(batch_size * seq_len, 2 * hidden_size)).view(batch_size, seq_len, 1) \n",
        "        attention_weights = self.softmax(unnormalized_attention)\n",
        "        context = torch.bmm(attention_weights.view(batch_size, 1, seq_len), values)\n",
        "        return context, attention_weights\n",
        "        \n",
        "      \n",
        "\n",
        "class ScaledDotAttention(nn.Module):\n",
        "    def __init__(self, hidden_size):\n",
        "        super(ScaledDotAttention, self).__init__()\n",
        "\n",
        "        self.hidden_size = hidden_size\n",
        "\n",
        "        self.Q = nn.Linear(hidden_size, hidden_size)\n",
        "        self.K = nn.Linear(hidden_size, hidden_size)\n",
        "        self.V = nn.Linear(hidden_size, hidden_size)\n",
        "        self.softmax = nn.Softmax(dim=1)\n",
        "        self.scaling_factor = torch.rsqrt(torch.tensor(self.hidden_size, dtype= torch.float))\n",
        "\n",
        "    def forward(self, queries, keys, values):\n",
        "        \"\"\"The forward pass of the scaled dot attention mechanism.\n",
        "\n",
        "        Arguments:\n",
        "            queries: The current decoder hidden state, 2D or 3D tensor. (batch_size x (k) x hidden_size)\n",
        "            keys: The encoder hidden states for each step of the input sequence. (batch_size x seq_len x hidden_size)\n",
        "            values: The encoder hidden states for each step of the input sequence. (batch_size x seq_len x hidden_size)\n",
        "\n",
        "        Returns:\n",
        "            context: weighted average of the values (batch_size x k x hidden_size)\n",
        "            attention_weights: Normalized attention weights for each encoder hidden state. (batch_size x seq_len x 1)\n",
        "\n",
        "            The output must be a softmax weighting over the seq_len annotations.\n",
        "        \"\"\"\n",
        "\n",
        "        # ------------\n",
        "        # FILL THIS IN\n",
        "        # ------------\n",
        "        batch_size, seq_len, hidden_size = keys.size()\n",
        "        q = self.Q(queries)\n",
        "        k = self.K(keys)\n",
        "        v = self.V(values)\n",
        "        \n",
        "        if len(q.size()) == 2:\n",
        "            q = q.view(batch_size, 1, hidden_size)\n",
        "            \n",
        "        unnormalized_attention = torch.bmm(k, torch.transpose(q,1,2)) * self.scaling_factor\n",
        "        attention_weights = self.softmax(unnormalized_attention)\n",
        "        context = torch.bmm(torch.transpose(attention_weights,1,2), v)\n",
        "        return context, attention_weights\n",
        "        \n",
        "\n",
        "      \n",
        "      \n",
        "class CausalScaledDotAttention(nn.Module):\n",
        "    def __init__(self, hidden_size):\n",
        "        super(CausalScaledDotAttention, self).__init__()\n",
        "\n",
        "        self.hidden_size = hidden_size\n",
        "        self.neg_inf = torch.tensor(-1e7)\n",
        "\n",
        "        self.Q = nn.Linear(hidden_size, hidden_size)\n",
        "        self.K = nn.Linear(hidden_size, hidden_size)\n",
        "        self.V = nn.Linear(hidden_size, hidden_size)\n",
        "        self.softmax = nn.Softmax(dim=1)\n",
        "        self.scaling_factor = torch.rsqrt(torch.tensor(self.hidden_size, dtype= torch.float))\n",
        "\n",
        "    def forward(self, queries, keys, values):\n",
        "        \"\"\"The forward pass of the scaled dot attention mechanism.\n",
        "\n",
        "        Arguments:\n",
        "            queries: The current decoder hidden state, 2D or 3D tensor. (batch_size x (k) x hidden_size)\n",
        "            keys: The encoder hidden states for each step of the input sequence. (batch_size x seq_len x hidden_size)\n",
        "            values: The encoder hidden states for each step of the input sequence. (batch_size x seq_len x hidden_size)\n",
        "\n",
        "        Returns:\n",
        "            context: weighted average of the values (batch_size x k x hidden_size)\n",
        "            attention_weights: Normalized attention weights for each encoder hidden state. (batch_size x seq_len x 1)\n",
        "\n",
        "            The output must be a softmax weighting over the seq_len annotations.\n",
        "        \"\"\"\n",
        "\n",
        "        # ------------\n",
        "        # FILL THIS IN\n",
        "        # ------------\n",
        "        batch_size, seq_len, hidden_size = keys.size()\n",
        "        q = self.Q(queries)\n",
        "        k = self.K(keys)\n",
        "        v = self.V(values)\n",
        "        \n",
        "        if len(q.size()) == 2:\n",
        "            q = q.view(batch_size, 1, hidden_size)\n",
        "        k_temp = q.size()[1]\n",
        "        \n",
        "        unnormalized_attention = torch.bmm(k, torch.transpose(q,1,2)) * self.scaling_factor\n",
        "        mask = torch.tril(torch.ones((seq_len, k_temp), dtype=torch.uint8), diagonal=-1).cuda().unsqueeze(0).expand(batch_size, -1, -1)\n",
        "        attention_weights = self.softmax(unnormalized_attention.masked_fill(mask, self.neg_inf))\n",
        "        context = torch.bmm(torch.transpose(attention_weights,1,2), v)\n",
        "        return context, attention_weights\n",
        "        \n",
        "        "
      ],
      "execution_count": 0,
      "outputs": []
    },
    {
      "metadata": {
        "id": "pemjZo2XWtRt",
        "colab_type": "text"
      },
      "cell_type": "markdown",
      "source": [
        "### Attention decoder"
      ]
    },
    {
      "metadata": {
        "id": "PfjF0Z-PWwPv",
        "colab_type": "code",
        "colab": {}
      },
      "cell_type": "code",
      "source": [
        "class RNNAttentionDecoder(nn.Module):\n",
        "    def __init__(self, vocab_size, hidden_size, attention_type='scaled_dot'):\n",
        "        super(RNNAttentionDecoder, self).__init__()\n",
        "        self.vocab_size = vocab_size\n",
        "        self.hidden_size = hidden_size\n",
        "\n",
        "        self.embedding = nn.Embedding(vocab_size, hidden_size)\n",
        "\n",
        "        self.rnn = MyGRUCell(input_size=hidden_size*2, hidden_size=hidden_size)\n",
        "        if attention_type == 'additive':\n",
        "          self.attention = AdditiveAttention(hidden_size=hidden_size)\n",
        "        elif attention_type == 'scaled_dot':\n",
        "          self.attention = ScaledDotAttention(hidden_size=hidden_size)\n",
        "        \n",
        "        self.out = nn.Linear(hidden_size, vocab_size)\n",
        "\n",
        "        \n",
        "    def forward(self, inputs, annotations, hidden_init):\n",
        "        \"\"\"Forward pass of the attention-based decoder RNN.\n",
        "\n",
        "        Arguments:\n",
        "            inputs: Input token indexes across a batch for all the time step. (batch_size x decoder_seq_len)\n",
        "            annotations: The encoder hidden states for each step of the input.\n",
        "                         sequence. (batch_size x seq_len x hidden_size)\n",
        "            hidden_init: The final hidden states from the encoder, across a batch. (batch_size x hidden_size)\n",
        "\n",
        "        Returns:\n",
        "            output: Un-normalized scores for each token in the vocabulary, across a batch for all the decoding time steps. (batch_size x decoder_seq_len x vocab_size)\n",
        "            attentions: The stacked attention weights applied to the encoder annotations (batch_size x encoder_seq_len x decoder_seq_len)\n",
        "        \"\"\"\n",
        "        \n",
        "        batch_size, seq_len = inputs.size()\n",
        "        embed = self.embedding(inputs)  # batch_size x seq_len x hidden_size        \n",
        "\n",
        "        hiddens = []\n",
        "        attentions = []\n",
        "        h_prev = hidden_init\n",
        "        for i in range(seq_len):\n",
        "            # ------------\n",
        "            # FILL THIS IN\n",
        "            # ------------\n",
        "            embed_current = embed[:,i,:]\n",
        "            context, attention_weights = self.attention.forward(h_prev, annotations, annotations)\n",
        "            embed_and_context = torch.cat((context.squeeze(1), embed_current), 1) \n",
        "            h_prev = self.rnn.forward(embed_and_context, h_prev)\n",
        "\n",
        "            \n",
        "            hiddens.append(h_prev)\n",
        "            attentions.append(attention_weights)\n",
        "\n",
        "        hiddens = torch.stack(hiddens, dim=1) # batch_size x seq_len x hidden_size\n",
        "        attentions = torch.cat(attentions, dim=2) # batch_size x seq_len x seq_len\n",
        "        \n",
        "        output = self.out(hiddens)  # batch_size x seq_len x vocab_size\n",
        "        return output, attentions\n",
        "        "
      ],
      "execution_count": 0,
      "outputs": []
    },
    {
      "metadata": {
        "id": "N8JpcwTRW5cw",
        "colab_type": "text"
      },
      "cell_type": "markdown",
      "source": [
        "### Transformer decoder"
      ]
    },
    {
      "metadata": {
        "id": "V5vJPku1W7sz",
        "colab_type": "code",
        "colab": {}
      },
      "cell_type": "code",
      "source": [
        "class TransformerDecoder(nn.Module):\n",
        "    def __init__(self, vocab_size, hidden_size, num_layers):\n",
        "        super(TransformerDecoder, self).__init__()\n",
        "        self.vocab_size = vocab_size\n",
        "        self.hidden_size = hidden_size\n",
        "\n",
        "        self.embedding = nn.Embedding(vocab_size, hidden_size)        \n",
        "        self.num_layers = num_layers\n",
        "        \n",
        "        self.self_attentions = nn.ModuleList([CausalScaledDotAttention(\n",
        "                                    hidden_size=hidden_size, \n",
        "                                 ) for i in range(self.num_layers)])\n",
        "        self.encoder_attentions = nn.ModuleList([ScaledDotAttention(\n",
        "                                    hidden_size=hidden_size, \n",
        "                                 ) for i in range(self.num_layers)])\n",
        "        self.attention_mlps = nn.ModuleList([nn.Sequential(\n",
        "                                    nn.Linear(hidden_size, hidden_size),\n",
        "                                    nn.ReLU(),\n",
        "                                 ) for i in range(self.num_layers)])\n",
        "        self.out = nn.Linear(hidden_size, vocab_size)\n",
        "\n",
        "        \n",
        "    def forward(self, inputs, annotations, hidden_init):\n",
        "        \"\"\"Forward pass of the attention-based decoder RNN.\n",
        "\n",
        "        Arguments:\n",
        "            inputs: Input token indexes across a batch for all the time step. (batch_size x decoder_seq_len)\n",
        "            annotations: The encoder hidden states for each step of the input.\n",
        "                         sequence. (batch_size x seq_len x hidden_size)\n",
        "            hidden_init: Not used in the transformer decoder\n",
        "        Returns:\n",
        "            output: Un-normalized scores for each token in the vocabulary, across a batch for all the decoding time steps. (batch_size x decoder_seq_len x vocab_size)\n",
        "            attentions: The stacked attention weights applied to the encoder annotations (batch_size x encoder_seq_len x decoder_seq_len)\n",
        "        \"\"\"\n",
        "        \n",
        "        batch_size, seq_len = inputs.size()\n",
        "        embed = self.embedding(inputs)  # batch_size x seq_len x hidden_size        \n",
        "\n",
        "        encoder_attention_weights_list = []\n",
        "        self_attention_weights_list = []\n",
        "        contexts = embed\n",
        "        for i in range(self.num_layers):\n",
        "          # ------------\n",
        "          # FILL THIS IN\n",
        "          # ------------\n",
        "          new_contexts, self_attention_weights = self.self_attentions[i](contexts, contexts, contexts)\n",
        "          residual_contexts = contexts + new_contexts\n",
        "          new_contexts, encoder_attention_weights = self.encoder_attentions[i](residual_contexts, annotations, annotations)\n",
        "          residual_contexts = residual_contexts + new_contexts\n",
        "          new_contexts = self.attention_mlps[i](residual_contexts)\n",
        "          contexts = residual_contexts + new_contexts + contexts\n",
        "\n",
        "          \n",
        "          encoder_attention_weights_list.append(encoder_attention_weights)\n",
        "          self_attention_weights_list.append(self_attention_weights)\n",
        "          \n",
        "        output = self.out(contexts)\n",
        "        encoder_attention_weights = torch.stack(encoder_attention_weights_list)\n",
        "        self_attention_weights = torch.stack(self_attention_weights_list)\n",
        "        \n",
        "        return output, (encoder_attention_weights, self_attention_weights)"
      ],
      "execution_count": 0,
      "outputs": []
    },
    {
      "metadata": {
        "id": "XuNFd6LNo0-o",
        "colab_type": "text"
      },
      "cell_type": "markdown",
      "source": [
        "# Training\n"
      ]
    },
    {
      "metadata": {
        "id": "kiUwiOITHTW4",
        "colab_type": "text"
      },
      "cell_type": "markdown",
      "source": [
        "## Download dataset"
      ]
    },
    {
      "metadata": {
        "id": "xwcFjsEpHRbI",
        "colab_type": "code",
        "outputId": "609907e7-04a3-4060-d8f2-28f48f3edc8a",
        "colab": {
          "base_uri": "https://localhost:8080/",
          "height": 34
        }
      },
      "cell_type": "code",
      "source": [
        "######################################################################\n",
        "# Download Translation datasets\n",
        "######################################################################\n",
        "data_fpath = get_file(fname='pig_latin_data.txt', \n",
        "                         origin='http://www.cs.toronto.edu/~jba/pig_latin_data.txt', \n",
        "                         untar=False)"
      ],
      "execution_count": 269,
      "outputs": [
        {
          "output_type": "stream",
          "text": [
            "data/pig_latin_data.txt\n"
          ],
          "name": "stdout"
        }
      ]
    },
    {
      "metadata": {
        "id": "hmQmyJDSRFKR",
        "colab_type": "text"
      },
      "cell_type": "markdown",
      "source": [
        "## RNN decoder"
      ]
    },
    {
      "metadata": {
        "id": "0LKaRF1jwhH7",
        "colab_type": "code",
        "outputId": "cc80ee14-f9ff-4b7a-9410-36a2d88f6d83",
        "colab": {
          "base_uri": "https://localhost:8080/",
          "height": 931
        }
      },
      "cell_type": "code",
      "source": [
        "TEST_SENTENCE = 'the air conditioning is working'\n",
        "\n",
        "args = AttrDict()\n",
        "args_dict = {\n",
        "              'cuda':True, \n",
        "              'nepochs':100, \n",
        "              'checkpoint_dir':\"checkpoints\", \n",
        "              'learning_rate':0.005, \n",
        "              'lr_decay':0.99,\n",
        "              'batch_size':64, \n",
        "              'hidden_size':20, \n",
        "              'decoder_type': 'rnn', # options: rnn / rnn_attention / transformer\n",
        "              'attention_type': '',  # options: additive / scaled_dot\n",
        "}\n",
        "args.update(args_dict)\n",
        "\n",
        "print_opts(args)\n",
        "rnn_encoder, rnn_decoder = train(args)\n",
        "\n",
        "translated = translate_sentence(TEST_SENTENCE, rnn_encoder, rnn_decoder, None, args)\n",
        "print(\"source:\\t\\t{} \\ntranslated:\\t{}\".format(TEST_SENTENCE, translated))"
      ],
      "execution_count": 270,
      "outputs": [
        {
          "output_type": "stream",
          "text": [
            "================================================================================\n",
            "                                      Opts                                      \n",
            "--------------------------------------------------------------------------------\n",
            "                            hidden_size: 20                                     \n",
            "                          learning_rate: 0.005                                  \n",
            "                             batch_size: 64                                     \n",
            "                                nepochs: 100                                    \n",
            "                                   cuda: 1                                      \n",
            "                         checkpoint_dir: checkpoints                            \n",
            "                           decoder_type: rnn                                    \n",
            "                               lr_decay: 0.99                                   \n",
            "                         attention_type:                                        \n",
            "================================================================================\n",
            "================================================================================\n",
            "                                   Data Stats                                   \n",
            "--------------------------------------------------------------------------------\n",
            "('payment', 'aymentpay')\n",
            "('ordination', 'ordinationway')\n",
            "('amends', 'amendsway')\n",
            "('principally', 'incipallypray')\n",
            "('anybody', 'anybodyway')\n",
            "Num unique word pairs: 6387\n",
            "Vocabulary: ['EOS', '-', 'SOS', 'a', 'c', 'b', 'e', 'd', 'g', 'f', 'i', 'h', 'k', 'j', 'm', 'l', 'o', 'n', 'q', 'p', 's', 'r', 'u', 't', 'w', 'v', 'y', 'x', 'z']\n",
            "Vocab size: 29\n",
            "================================================================================\n",
            "Moved models to GPU!\n",
            "Epoch:   0 | Train loss: 2.387 | Val loss: 2.018 | Gen: esay ay esay ay esesay\n",
            "Exiting early from training.\n",
            "source:\t\tthe air conditioning is working \n",
            "translated:\tesay ay esay ay esesay\n"
          ],
          "name": "stdout"
        },
        {
          "output_type": "display_data",
          "data": {
            "image/png": "[encoded data removed]",
            "text/plain": [
              "<Figure size 576x396 with 1 Axes>"
            ]
          },
          "metadata": {
            "tags": []
          }
        }
      ]
    },
    {
      "metadata": {
        "id": "p2kPGj5DFv7a",
        "colab_type": "code",
        "outputId": "e7f5f9e5-52d9-4ebb-ac54-d09654cdf0cd",
        "colab": {
          "base_uri": "https://localhost:8080/",
          "height": 51
        }
      },
      "cell_type": "code",
      "source": [
        "TEST_SENTENCE = 'the air conditioning is working'\n",
        "translated = translate_sentence(TEST_SENTENCE, rnn_encoder, rnn_decoder, None, args)\n",
        "print(\"source:\\t\\t{} \\ntranslated:\\t{}\".format(TEST_SENTENCE, translated))"
      ],
      "execution_count": 271,
      "outputs": [
        {
          "output_type": "stream",
          "text": [
            "source:\t\tthe air conditioning is working \n",
            "translated:\tesay ay esay ay esesay\n"
          ],
          "name": "stdout"
        }
      ]
    },
    {
      "metadata": {
        "id": "7cP7nl5NRJbu",
        "colab_type": "text"
      },
      "cell_type": "markdown",
      "source": [
        "## RNN attention decoder"
      ]
    },
    {
      "metadata": {
        "id": "nKlyfbuPDXDR",
        "colab_type": "code",
        "outputId": "438d5d71-c04f-4494-8b4c-894d7292d1fc",
        "colab": {
          "base_uri": "https://localhost:8080/",
          "height": 2213
        }
      },
      "cell_type": "code",
      "source": [
        "TEST_SENTENCE = 'the air conditioning is working'\n",
        "\n",
        "args = AttrDict()\n",
        "args_dict = {\n",
        "              'cuda':True, \n",
        "              'nepochs':100, \n",
        "              'checkpoint_dir':\"checkpoints\", \n",
        "              'learning_rate':0.005, \n",
        "              'lr_decay':0.99,\n",
        "              'batch_size':64, \n",
        "              'hidden_size':20, \n",
        "              'decoder_type': 'rnn_attention', # options: rnn / rnn_attention / transformer\n",
        "              'attention_type': 'scaled_dot',  # options: additive / scaled_dot\n",
        "}\n",
        "args.update(args_dict)\n",
        "\n",
        "print_opts(args)\n",
        "rnn_attn_encoder, rnn_attn_decoder = train(args)\n",
        "\n",
        "translated = translate_sentence(TEST_SENTENCE, rnn_attn_encoder, rnn_attn_decoder, None, args)\n",
        "print(\"source:\\t\\t{} \\ntranslated:\\t{}\".format(TEST_SENTENCE, translated))"
      ],
      "execution_count": 272,
      "outputs": [
        {
          "output_type": "stream",
          "text": [
            "================================================================================\n",
            "                                      Opts                                      \n",
            "--------------------------------------------------------------------------------\n",
            "                            hidden_size: 20                                     \n",
            "                          learning_rate: 0.005                                  \n",
            "                             batch_size: 64                                     \n",
            "                                nepochs: 100                                    \n",
            "                                   cuda: 1                                      \n",
            "                         checkpoint_dir: checkpoints                            \n",
            "                           decoder_type: rnn_attention                          \n",
            "                               lr_decay: 0.99                                   \n",
            "                         attention_type: scaled_dot                             \n",
            "================================================================================\n",
            "================================================================================\n",
            "                                   Data Stats                                   \n",
            "--------------------------------------------------------------------------------\n",
            "('payment', 'aymentpay')\n",
            "('ordination', 'ordinationway')\n",
            "('amends', 'amendsway')\n",
            "('principally', 'incipallypray')\n",
            "('anybody', 'anybodyway')\n",
            "Num unique word pairs: 6387\n",
            "Vocabulary: ['EOS', '-', 'SOS', 'a', 'c', 'b', 'e', 'd', 'g', 'f', 'i', 'h', 'k', 'j', 'm', 'l', 'o', 'n', 'q', 'p', 's', 'r', 'u', 't', 'w', 'v', 'y', 'x', 'z']\n",
            "Vocab size: 29\n",
            "================================================================================\n",
            "Moved models to GPU!\n",
            "Epoch:   0 | Train loss: 2.354 | Val loss: 1.960 | Gen: eray eray ongay esessay ongay\n",
            "Epoch:   1 | Train loss: 1.817 | Val loss: 1.684 | Gen: estessay aredway ongingingingingingin ingedsay outinghay\n",
            "Epoch:   2 | Train loss: 1.593 | Val loss: 1.541 | Gen: estsay areday ongingsay inginssay oodgingsay\n",
            "Epoch:   3 | Train loss: 1.435 | Val loss: 1.388 | Gen: estay aredinday ongingsay isssay oodgay-ingsay\n",
            "Epoch:   4 | Train loss: 1.300 | Val loss: 1.258 | Gen: estay ainiray ongiongay issay orray\n",
            "Epoch:   5 | Train loss: 1.156 | Val loss: 1.077 | Gen: estay ailray ongiongingway issay ortingway\n",
            "Epoch:   6 | Train loss: 0.989 | Val loss: 0.931 | Gen: esthay airray ondingingway isshay orkingway\n",
            "Epoch:   7 | Train loss: 0.839 | Val loss: 0.825 | Gen: esthay airray onditiongingingingin issay orkingway\n",
            "Epoch:   8 | Train loss: 0.712 | Val loss: 0.754 | Gen: exthay airray onditiongway isigay orkingway\n",
            "Epoch:   9 | Train loss: 0.722 | Val loss: 0.680 | Gen: esthay airray onditiongininginingi issay orkingway\n",
            "Epoch:  10 | Train loss: 0.597 | Val loss: 0.628 | Gen: extay airray onditiongway isisway orkingway\n",
            "Epoch:  11 | Train loss: 0.516 | Val loss: 0.621 | Gen: estay airray onditiongway isisway orkingway\n",
            "Epoch:  12 | Train loss: 0.451 | Val loss: 0.523 | Gen: esthay airray onditiongay isisway orkingway\n",
            "Epoch:  13 | Train loss: 0.428 | Val loss: 0.506 | Gen: esthay airray onditiogingway isisway orkingway\n",
            "Epoch:  14 | Train loss: 0.409 | Val loss: 0.459 | Gen: esthay airway onditioningway isisway orkingday\n",
            "Epoch:  15 | Train loss: 0.364 | Val loss: 0.484 | Gen: esthay airway onditioningay isisway orkingway\n",
            "Epoch:  16 | Train loss: 0.369 | Val loss: 0.544 | Gen: estay-thay airway onditiongway isisway orkingray\n",
            "Epoch:  17 | Train loss: 0.465 | Val loss: 0.596 | Gen: estay-thay airray onditingway isislay orkingray\n",
            "Epoch:  18 | Train loss: 0.452 | Val loss: 0.613 | Gen: estay airway onditinglay isisway orkingcay\n",
            "Epoch:  19 | Train loss: 0.387 | Val loss: 0.420 | Gen: estay airway onditingway isislay orkingway\n",
            "Epoch:  20 | Train loss: 0.334 | Val loss: 0.343 | Gen: esthay airway onditionglay isway orkingcay\n",
            "Epoch:  21 | Train loss: 0.273 | Val loss: 0.295 | Gen: esthay airway onditioningway isisway orkingway\n",
            "Epoch:  22 | Train loss: 0.236 | Val loss: 0.380 | Gen: esthay airway onditiolingay isisway orkingway\n",
            "Epoch:  23 | Train loss: 0.227 | Val loss: 0.295 | Gen: esthay airway onditiongay isway orkingway\n",
            "Epoch:  24 | Train loss: 0.197 | Val loss: 0.265 | Gen: esthay airway onditioncay isway orkingway\n",
            "Epoch:  25 | Train loss: 0.170 | Val loss: 0.260 | Gen: esthay airway onditioncay isway orkingway\n",
            "Epoch:  26 | Train loss: 0.179 | Val loss: 0.359 | Gen: esthay airay onditiongway isway orkingway\n",
            "Epoch:  27 | Train loss: 0.221 | Val loss: 0.394 | Gen: ethay airway onditioninglay isway orkingway\n",
            "Epoch:  28 | Train loss: 0.203 | Val loss: 0.332 | Gen: estay airway onditioncay isway orkingway\n",
            "Epoch:  29 | Train loss: 0.191 | Val loss: 0.285 | Gen: esthay airway onditioncay isway orkingway\n",
            "Epoch:  30 | Train loss: 0.175 | Val loss: 0.268 | Gen: esthay airway onditioncay isway orkingway\n",
            "Epoch:  31 | Train loss: 0.166 | Val loss: 0.318 | Gen: esthay airway onditionglay isway orkingway\n",
            "Epoch:  32 | Train loss: 0.171 | Val loss: 0.248 | Gen: esthay airway onditionglay isway orkingway\n",
            "Epoch:  33 | Train loss: 0.115 | Val loss: 0.207 | Gen: ethay airway onditiongcay isway orkingway\n",
            "Epoch:  34 | Train loss: 0.144 | Val loss: 0.385 | Gen: ethay airway onditionicinglay isray orkingray\n",
            "Epoch:  35 | Train loss: 0.149 | Val loss: 0.206 | Gen: ethay airway onditioncay isway orkingway\n",
            "Epoch:  36 | Train loss: 0.088 | Val loss: 0.211 | Gen: ethay airway onditioncay isway orkingway\n",
            "Epoch:  37 | Train loss: 0.071 | Val loss: 0.220 | Gen: ethay airway onditioncay isway orkingway\n",
            "Epoch:  38 | Train loss: 0.063 | Val loss: 0.191 | Gen: ethay airway onditioncay isway orkingway\n",
            "Epoch:  39 | Train loss: 0.069 | Val loss: 0.305 | Gen: ethay airway onditiongway isway orkingway\n",
            "Epoch:  40 | Train loss: 0.373 | Val loss: 0.321 | Gen: ethay airway onditiongcay isway orkingway\n",
            "Epoch:  41 | Train loss: 0.137 | Val loss: 0.219 | Gen: ethay airway onditioncay isway orkingway\n",
            "Epoch:  42 | Train loss: 0.078 | Val loss: 0.186 | Gen: ethay airway onditiongcay isway orkingway\n",
            "Epoch:  43 | Train loss: 0.067 | Val loss: 0.180 | Gen: ethay airway onditiongcay isway orkingway\n",
            "Epoch:  44 | Train loss: 0.051 | Val loss: 0.182 | Gen: ethay airway onditioncay isway orkingway\n",
            "Epoch:  45 | Train loss: 0.042 | Val loss: 0.175 | Gen: ethay airway onditiongcay isway orkingway\n",
            "Epoch:  46 | Train loss: 0.037 | Val loss: 0.182 | Gen: ethay airway onditiongcay isway orkingway\n",
            "Epoch:  47 | Train loss: 0.033 | Val loss: 0.161 | Gen: ethay airway onditiongcay isway orkingway\n",
            "Epoch:  48 | Train loss: 0.055 | Val loss: 0.210 | Gen: ethay airway onditiongway isway orkingway\n",
            "Epoch:  49 | Train loss: 0.041 | Val loss: 0.199 | Gen: ethay airway onditiongcay isway orkingway\n",
            "Epoch:  50 | Train loss: 0.038 | Val loss: 0.189 | Gen: ethay airway onditiongway isway orkingway\n",
            "Epoch:  51 | Train loss: 0.039 | Val loss: 0.190 | Gen: ethay airway onditiongway isway orkingway\n",
            "Epoch:  52 | Train loss: 0.244 | Val loss: 0.302 | Gen: ethay airway onditioncay isway orkingway\n",
            "Epoch:  53 | Train loss: 0.215 | Val loss: 0.303 | Gen: ethay airway onditionglay isway orkingway\n",
            "Epoch:  54 | Train loss: 0.187 | Val loss: 0.315 | Gen: ethay airway onditioncscay isway orkingway\n",
            "Epoch:  55 | Train loss: 0.138 | Val loss: 0.231 | Gen: ethay airway onditiongcay isway orkingway\n",
            "Epoch:  56 | Train loss: 0.084 | Val loss: 0.187 | Gen: ethay airway onditiongcay isway orkingway\n",
            "Epoch:  57 | Train loss: 0.060 | Val loss: 0.205 | Gen: ethay airway onditiongcay isway orkingway\n",
            "Epoch:  58 | Train loss: 0.060 | Val loss: 0.184 | Gen: ethay airway onditiongcay isway orkingway\n",
            "Epoch:  59 | Train loss: 0.038 | Val loss: 0.156 | Gen: ethay airway onditiongcay isway orkingway\n",
            "Epoch:  60 | Train loss: 0.028 | Val loss: 0.163 | Gen: ethay airway onditiongcay isway orkingway\n",
            "Epoch:  61 | Train loss: 0.024 | Val loss: 0.165 | Gen: ethay airway onditiongcay isway orkingway\n",
            "Epoch:  62 | Train loss: 0.022 | Val loss: 0.164 | Gen: ethay airway onditiongcay isway orkingway\n",
            "Epoch:  63 | Train loss: 0.021 | Val loss: 0.146 | Gen: ethay airway onditiongcay isway orkingway\n",
            "Epoch:  64 | Train loss: 0.018 | Val loss: 0.158 | Gen: ethay airway onditiongcay isway orkingway\n",
            "Epoch:  65 | Train loss: 0.029 | Val loss: 0.185 | Gen: ethay airway onditionicay isway orkingway\n",
            "Epoch:  66 | Train loss: 0.040 | Val loss: 0.171 | Gen: ethay airway onditiongcay isway orkingway\n",
            "Epoch:  67 | Train loss: 0.025 | Val loss: 0.157 | Gen: ethay airway onditioningcay isway orkingway\n",
            "Epoch:  68 | Train loss: 0.019 | Val loss: 0.156 | Gen: ethay airway onditionicay isway orkingway\n",
            "Epoch:  69 | Train loss: 0.028 | Val loss: 0.150 | Gen: ethay airway onditiongway isway orkingway\n",
            "Epoch:  70 | Train loss: 0.033 | Val loss: 0.185 | Gen: ethay airway onditiongcay isway orkingway\n",
            "Epoch:  71 | Train loss: 0.074 | Val loss: 0.399 | Gen: ethay airway onditpay isway orkingway\n",
            "Epoch:  72 | Train loss: 0.114 | Val loss: 0.199 | Gen: ethay airway onditiongcay isway orkingway\n",
            "Epoch:  73 | Train loss: 0.065 | Val loss: 0.179 | Gen: ethay airway onditioningcay isway orkingway\n",
            "Epoch:  74 | Train loss: 0.072 | Val loss: 0.190 | Gen: ethay airway onditioningcay isway orkingway\n",
            "Epoch:  75 | Train loss: 0.028 | Val loss: 0.178 | Gen: ethay airway onditiongray isway orkingway\n",
            "Epoch:  76 | Train loss: 0.019 | Val loss: 0.171 | Gen: ethay airway onditiongcay isway orkingway\n",
            "Epoch:  77 | Train loss: 0.015 | Val loss: 0.162 | Gen: ethay airway onditiongway isway orkingway\n",
            "Epoch:  78 | Train loss: 0.013 | Val loss: 0.167 | Gen: ethay airway onditiongcay isway orkingway\n",
            "Epoch:  79 | Train loss: 0.011 | Val loss: 0.159 | Gen: ethay airway onditiongway isway orkingway\n",
            "Epoch:  80 | Train loss: 0.009 | Val loss: 0.158 | Gen: ethay airway onditiongway isway orkingway\n",
            "Epoch:  81 | Train loss: 0.008 | Val loss: 0.157 | Gen: ethay airway onditionicgway isway orkingway\n",
            "Epoch:  82 | Train loss: 0.008 | Val loss: 0.158 | Gen: ethay airway onditiongcay isway orkingway\n",
            "Epoch:  83 | Train loss: 0.007 | Val loss: 0.158 | Gen: ethay airway onditiongcay isway orkingway\n",
            "Epoch:  84 | Train loss: 0.006 | Val loss: 0.159 | Gen: ethay airway onditionicgway isway orkingway\n",
            "Epoch:  85 | Train loss: 0.006 | Val loss: 0.161 | Gen: ethay airway onditiongcay isway orkingway\n",
            "Epoch:  86 | Train loss: 0.006 | Val loss: 0.152 | Gen: ethay airway onditiongcay isway orkingway\n",
            "Epoch:  87 | Train loss: 0.005 | Val loss: 0.161 | Gen: ethay airway onditiongcay isway orkingway\n",
            "Epoch:  88 | Train loss: 0.005 | Val loss: 0.158 | Gen: ethay airway onditiongcay isway orkingway\n",
            "Epoch:  89 | Train loss: 0.005 | Val loss: 0.167 | Gen: ethay airway onditiongcay isway orkingway\n",
            "Epoch:  90 | Train loss: 0.004 | Val loss: 0.170 | Gen: ethay airway onditiongcay isway orkingway\n",
            "Epoch:  91 | Train loss: 0.004 | Val loss: 0.166 | Gen: ethay airway onditiongcay isway orkingway\n",
            "Epoch:  92 | Train loss: 0.004 | Val loss: 0.169 | Gen: ethay airway onditionicgway isway orkingway\n",
            "Epoch:  93 | Train loss: 0.003 | Val loss: 0.167 | Gen: ethay airway onditiongcay isway orkingway\n",
            "Epoch:  94 | Train loss: 0.003 | Val loss: 0.174 | Gen: ethay airway onditioningcay isway orkingway\n",
            "Epoch:  95 | Train loss: 0.007 | Val loss: 0.215 | Gen: ethay airway onditiongcay isway orkingway\n",
            "Epoch:  96 | Train loss: 0.149 | Val loss: 0.449 | Gen: ethay airay onditioncay isway orkingway\n",
            "Epoch:  97 | Train loss: 0.128 | Val loss: 0.185 | Gen: ethay airway onditiongway isway orkingway\n",
            "Epoch:  98 | Train loss: 0.087 | Val loss: 0.207 | Gen: ethay airway onditionway isway orkingway\n",
            "Epoch:  99 | Train loss: 0.080 | Val loss: 0.184 | Gen: ethay airway onditiongway isway orkingway\n",
            "source:\t\tthe air conditioning is working \n",
            "translated:\tethay airway onditiongway isway orkingway\n"
          ],
          "name": "stdout"
        }
      ]
    },
    {
      "metadata": {
        "id": "vE-hKCxhF3iR",
        "colab_type": "code",
        "outputId": "46f9195c-7ba2-4683-8bd5-befb2d0f9cbf",
        "colab": {
          "base_uri": "https://localhost:8080/",
          "height": 51
        }
      },
      "cell_type": "code",
      "source": [
        "TEST_SENTENCE = 'the air conditioning is working'\n",
        "translated = translate_sentence(TEST_SENTENCE, rnn_attn_encoder, rnn_attn_decoder, None, args)\n",
        "print(\"source:\\t\\t{} \\ntranslated:\\t{}\".format(TEST_SENTENCE, translated))"
      ],
      "execution_count": 273,
      "outputs": [
        {
          "output_type": "stream",
          "text": [
            "source:\t\tthe air conditioning is working \n",
            "translated:\tethay airway onditiongway isway orkingway\n"
          ],
          "name": "stdout"
        }
      ]
    },
    {
      "metadata": {
        "id": "X8FaZZUWRpY9",
        "colab_type": "text"
      },
      "cell_type": "markdown",
      "source": [
        "## Transformer"
      ]
    },
    {
      "metadata": {
        "id": "Ik5rx9qw9KCg",
        "colab_type": "code",
        "outputId": "4ecf283e-326f-474c-cd39-8eda5b7d997d",
        "colab": {
          "base_uri": "https://localhost:8080/",
          "height": 2213
        }
      },
      "cell_type": "code",
      "source": [
        "TEST_SENTENCE = 'the air conditioning is working'\n",
        "\n",
        "args = AttrDict()\n",
        "args_dict = {\n",
        "              'cuda':True, \n",
        "              'nepochs':100, \n",
        "              'checkpoint_dir':\"checkpoints\", \n",
        "              'learning_rate':0.005, \n",
        "              'lr_decay':0.99,\n",
        "              'batch_size':64, \n",
        "              'hidden_size':20, \n",
        "              'decoder_type': 'transformer', # options: rnn / rnn_attention / transformer\n",
        "              'num_transformer_layers': 3,\n",
        "}\n",
        "args.update(args_dict)\n",
        "\n",
        "print_opts(args)\n",
        "transformer_encoder, transformer_decoder = train(args)\n",
        "\n",
        "translated = translate_sentence(TEST_SENTENCE, transformer_encoder, transformer_decoder, None, args)\n",
        "print(\"source:\\t\\t{} \\ntranslated:\\t{}\".format(TEST_SENTENCE, translated))"
      ],
      "execution_count": 284,
      "outputs": [
        {
          "output_type": "stream",
          "text": [
            "================================================================================\n",
            "                                      Opts                                      \n",
            "--------------------------------------------------------------------------------\n",
            "                            hidden_size: 20                                     \n",
            "                          learning_rate: 0.005                                  \n",
            "                 num_transformer_layers: 3                                      \n",
            "                             batch_size: 64                                     \n",
            "                                nepochs: 100                                    \n",
            "                                   cuda: 1                                      \n",
            "                         checkpoint_dir: checkpoints                            \n",
            "                           decoder_type: transformer                            \n",
            "                               lr_decay: 0.99                                   \n",
            "================================================================================\n",
            "================================================================================\n",
            "                                   Data Stats                                   \n",
            "--------------------------------------------------------------------------------\n",
            "('payment', 'aymentpay')\n",
            "('ordination', 'ordinationway')\n",
            "('amends', 'amendsway')\n",
            "('principally', 'incipallypray')\n",
            "('anybody', 'anybodyway')\n",
            "Num unique word pairs: 6387\n",
            "Vocabulary: ['EOS', '-', 'SOS', 'a', 'c', 'b', 'e', 'd', 'g', 'f', 'i', 'h', 'k', 'j', 'm', 'l', 'o', 'n', 'q', 'p', 's', 'r', 'u', 't', 'w', 'v', 'y', 'x', 'z']\n",
            "Vocab size: 29\n",
            "================================================================================\n",
            "Moved models to GPU!\n",
            "Epoch:   0 | Train loss: 2.987 | Val loss: 1.863 | Gen: enterterterterterter aray ontingstintintintint ingsay oray\n",
            "Epoch:   1 | Train loss: 1.704 | Val loss: 1.465 | Gen: efay-etay airay oningngngway isisisisisisisisisis oray\n",
            "Epoch:   2 | Train loss: 1.302 | Val loss: 1.157 | Gen: epthay airay oningway ispray oringway\n",
            "Epoch:   3 | Train loss: 0.995 | Val loss: 0.924 | Gen: eway-erthay airay onindindiongsingsing ispay orkingway\n",
            "Epoch:   4 | Train loss: 0.788 | Val loss: 0.767 | Gen: efay airway onininibnibnibnibnib ispray orkingway\n",
            "Epoch:   5 | Train loss: 0.661 | Val loss: 0.669 | Gen: eay airway oninibninibnibnibnib isway orkingway\n",
            "Epoch:   6 | Train loss: 0.578 | Val loss: 0.643 | Gen: ethay airway onincay isway orkingway\n",
            "Epoch:   7 | Train loss: 0.525 | Val loss: 0.544 | Gen: ethay airway onioniongcay isway orkingway\n",
            "Epoch:   8 | Train loss: 0.449 | Val loss: 0.542 | Gen: ethay airway onitingcay isway orkingway\n",
            "Epoch:   9 | Train loss: 0.407 | Val loss: 0.469 | Gen: ethay airway ondionioniongcay isway orkingway\n",
            "Epoch:  10 | Train loss: 0.377 | Val loss: 0.461 | Gen: ethay airway ondiongcay isway orkingway\n",
            "Epoch:  11 | Train loss: 0.378 | Val loss: 0.412 | Gen: ethay airway onderfay isway orkingway\n",
            "Epoch:  12 | Train loss: 0.316 | Val loss: 0.431 | Gen: ethay airway ondititingcay isway orkingway\n",
            "Epoch:  13 | Train loss: 0.287 | Val loss: 0.328 | Gen: ethay airway onditingcay isway orkingway\n",
            "Epoch:  14 | Train loss: 0.255 | Val loss: 0.463 | Gen: ethay airway onditininitingcay isway orkingway\n",
            "Epoch:  15 | Train loss: 0.298 | Val loss: 0.337 | Gen: ethay airway ondcay isway orkingway\n",
            "Epoch:  16 | Train loss: 0.219 | Val loss: 0.311 | Gen: ethay airway onditingcay isway orkingway\n",
            "Epoch:  17 | Train loss: 0.216 | Val loss: 0.297 | Gen: ethay airway onditiongcay isway orkingway\n",
            "Epoch:  18 | Train loss: 0.353 | Val loss: 0.442 | Gen: ethay airway onditinditindcay isway oingway\n",
            "Epoch:  19 | Train loss: 0.363 | Val loss: 0.388 | Gen: ethay airway onditingcay isway orkingway\n",
            "Epoch:  20 | Train loss: 0.304 | Val loss: 0.375 | Gen: ethay airway onditingcay isway orkingway\n",
            "Epoch:  21 | Train loss: 0.208 | Val loss: 0.293 | Gen: ethay airway onditingcay isway orkingway\n",
            "Epoch:  22 | Train loss: 0.216 | Val loss: 0.280 | Gen: ethay airway ondititingcay isway orkingway\n",
            "Epoch:  23 | Train loss: 0.141 | Val loss: 0.242 | Gen: ethay airway ondititingcay isway orkingway\n",
            "Epoch:  24 | Train loss: 0.142 | Val loss: 0.277 | Gen: ethay airway ondititingcay isway orkingway\n",
            "Epoch:  25 | Train loss: 0.155 | Val loss: 0.258 | Gen: ethay airway ondititingcay isway orkingway\n",
            "Epoch:  26 | Train loss: 0.176 | Val loss: 0.305 | Gen: ethay airway ondititingcay isway orkingway\n",
            "Epoch:  27 | Train loss: 0.175 | Val loss: 0.248 | Gen: ethay airway onditiongcay isway orkingway\n",
            "Epoch:  28 | Train loss: 0.136 | Val loss: 0.233 | Gen: ethay airway ondioniongcay isway orkingway\n",
            "Epoch:  29 | Train loss: 0.135 | Val loss: 0.251 | Gen: ethay airway onditiongcay isway orkingway\n",
            "Epoch:  30 | Train loss: 0.128 | Val loss: 0.223 | Gen: ethay airway onditingcay isway orkingway\n",
            "Epoch:  31 | Train loss: 0.102 | Val loss: 0.211 | Gen: ethay airway ondititingcay isway orkingway\n",
            "Epoch:  32 | Train loss: 0.111 | Val loss: 0.197 | Gen: ethay airway onditingcay isway orkingway\n",
            "Epoch:  33 | Train loss: 0.124 | Val loss: 0.258 | Gen: ethay airway onditingcay isway orkingway\n",
            "Epoch:  34 | Train loss: 0.121 | Val loss: 0.201 | Gen: ethay airway onditiongcay isway orkingway\n",
            "Epoch:  35 | Train loss: 0.069 | Val loss: 0.161 | Gen: ethay airway onditiongcay isway orkingway\n",
            "Epoch:  36 | Train loss: 0.053 | Val loss: 0.147 | Gen: ethay airway ondititingcay isway orkingway\n",
            "Epoch:  37 | Train loss: 0.049 | Val loss: 0.143 | Gen: ethay airway onditiongcay isway orkingway\n",
            "Epoch:  38 | Train loss: 0.056 | Val loss: 0.154 | Gen: ethay airway ondititingcay isway orkingway\n",
            "Epoch:  39 | Train loss: 0.073 | Val loss: 0.177 | Gen: ethay airway onditiongcay isway orkingway\n",
            "Epoch:  40 | Train loss: 0.082 | Val loss: 0.194 | Gen: ethay airway onditiongcay isway orkingway\n",
            "Epoch:  41 | Train loss: 0.071 | Val loss: 0.160 | Gen: ethay airway ondititingcay isway orkingway\n",
            "Epoch:  42 | Train loss: 0.077 | Val loss: 0.232 | Gen: ethay airway onditiongcay isway orkingway\n",
            "Epoch:  43 | Train loss: 0.118 | Val loss: 0.250 | Gen: ethay airway onditiongay isway orkingway\n",
            "Epoch:  44 | Train loss: 0.110 | Val loss: 0.154 | Gen: ethay airway ondititiongcay isway orkingway\n",
            "Epoch:  45 | Train loss: 0.101 | Val loss: 0.160 | Gen: ethay airway onditiongcay isway orkingway\n",
            "Epoch:  46 | Train loss: 0.062 | Val loss: 0.148 | Gen: ethay airway onditiongcay isway orkingway\n",
            "Epoch:  47 | Train loss: 0.078 | Val loss: 0.196 | Gen: ethay airway ondititibngcay isway orkingway\n",
            "Epoch:  48 | Train loss: 0.053 | Val loss: 0.126 | Gen: ethay airway onditiongcay isway orkingway\n",
            "Epoch:  49 | Train loss: 0.037 | Val loss: 0.164 | Gen: ethay airway onditingcay isway orkingway\n",
            "Epoch:  50 | Train loss: 0.056 | Val loss: 0.166 | Gen: ethay airway onditiongcay isway orkingway\n",
            "Epoch:  51 | Train loss: 0.067 | Val loss: 0.204 | Gen: eay airway onditiongc isway orkingway\n",
            "Epoch:  52 | Train loss: 0.171 | Val loss: 0.300 | Gen: ethay airway onditiongcay isway orkingway\n",
            "Epoch:  53 | Train loss: 0.184 | Val loss: 0.261 | Gen: ethay airway onditiongcay isway orkingway\n",
            "Epoch:  54 | Train loss: 0.116 | Val loss: 0.167 | Gen: ethay airway onditingcay isway orkingway\n",
            "Epoch:  55 | Train loss: 0.048 | Val loss: 0.136 | Gen: ethay airway onditingcay isway orkingway\n",
            "Epoch:  56 | Train loss: 0.034 | Val loss: 0.137 | Gen: ethay airway onditiongcay isway orkingway\n",
            "Epoch:  57 | Train loss: 0.061 | Val loss: 0.160 | Gen: ethay airway onditingcay isway orkingway\n",
            "Epoch:  58 | Train loss: 0.046 | Val loss: 0.116 | Gen: ethay airway onditiongcay isway orkingway\n",
            "Epoch:  59 | Train loss: 0.064 | Val loss: 0.176 | Gen: ethay airway onditincangcay isway orkingway\n",
            "Epoch:  60 | Train loss: 0.087 | Val loss: 0.145 | Gen: ethay airway onditingcay isway orkingway\n",
            "Epoch:  61 | Train loss: 0.056 | Val loss: 0.124 | Gen: ethay airway onditiongcay isway orkingway\n",
            "Epoch:  62 | Train loss: 0.041 | Val loss: 0.130 | Gen: ethay airway onditiongcay isway orkingway\n",
            "Epoch:  63 | Train loss: 0.144 | Val loss: 0.301 | Gen: ethay airway onditingcay isway orkingway\n",
            "Epoch:  64 | Train loss: 0.154 | Val loss: 0.224 | Gen: ethay airway onditioningcay isway orkingway\n",
            "Epoch:  65 | Train loss: 0.075 | Val loss: 0.143 | Gen: ethay airway onditiongcay isway orkingway\n",
            "Epoch:  66 | Train loss: 0.046 | Val loss: 0.147 | Gen: ethay airway onditioningcay isway orkingway\n",
            "Epoch:  67 | Train loss: 0.038 | Val loss: 0.132 | Gen: ethay airway onditiongcay isway orkingway\n",
            "Epoch:  68 | Train loss: 0.054 | Val loss: 0.146 | Gen: ethay airway onditiongcay isway orkingway\n",
            "Epoch:  69 | Train loss: 0.044 | Val loss: 0.109 | Gen: ethay airway onditingcay isway orkingway\n",
            "Epoch:  70 | Train loss: 0.039 | Val loss: 0.118 | Gen: ethay airway onditiongcay isway orkingway\n",
            "Epoch:  71 | Train loss: 0.022 | Val loss: 0.091 | Gen: ethay airway onditiongcay isway orkingway\n",
            "Epoch:  72 | Train loss: 0.024 | Val loss: 0.108 | Gen: ethay airway ondititingcay isway orkingway\n",
            "Epoch:  73 | Train loss: 0.020 | Val loss: 0.116 | Gen: ethay airway onditiongcay isway orkingway\n",
            "Epoch:  74 | Train loss: 0.026 | Val loss: 0.122 | Gen: ethay airway onditiongcay isway orkingway\n",
            "Epoch:  75 | Train loss: 0.015 | Val loss: 0.103 | Gen: ethay airway onditiongcay isway orkingway\n",
            "Epoch:  76 | Train loss: 0.015 | Val loss: 0.110 | Gen: ethay airway onditiongcay isway orkingway\n",
            "Epoch:  77 | Train loss: 0.015 | Val loss: 0.107 | Gen: ethay airway onditiongcay isway orkingway\n",
            "Epoch:  78 | Train loss: 0.023 | Val loss: 0.140 | Gen: ethay airway onditiongcay isway orkingway\n",
            "Epoch:  79 | Train loss: 0.015 | Val loss: 0.102 | Gen: ethay airway onditiongcay isway orkingway\n",
            "Epoch:  80 | Train loss: 0.007 | Val loss: 0.093 | Gen: ethay airway onditiongcay isway orkingway\n",
            "Epoch:  81 | Train loss: 0.005 | Val loss: 0.095 | Gen: ethay airway onditiongcay isway orkingway\n",
            "Epoch:  82 | Train loss: 0.004 | Val loss: 0.084 | Gen: ethay airway onditiongcay isway orkingway\n",
            "Epoch:  83 | Train loss: 0.004 | Val loss: 0.093 | Gen: ethay airway onditiongcay isway orkingway\n",
            "Epoch:  84 | Train loss: 0.005 | Val loss: 0.094 | Gen: ethay airway onditiongcay isway orkingway\n",
            "Epoch:  85 | Train loss: 0.014 | Val loss: 0.125 | Gen: eathay airway onditioningcay isway orkingway\n",
            "Epoch:  86 | Train loss: 0.066 | Val loss: 0.284 | Gen: ethay airway onditingcay isway orkingway\n",
            "Epoch:  87 | Train loss: 0.099 | Val loss: 0.183 | Gen: ethay airway onditiongcay isway orkingway\n",
            "Epoch:  88 | Train loss: 0.074 | Val loss: 0.226 | Gen: ethay airway onditiongcay isway orkingway\n",
            "Epoch:  89 | Train loss: 0.060 | Val loss: 0.147 | Gen: ethay airway onditiongcay isway orkingway\n",
            "Epoch:  90 | Train loss: 0.027 | Val loss: 0.110 | Gen: ethay airway onditiongcay isway orkingway\n",
            "Epoch:  91 | Train loss: 0.013 | Val loss: 0.103 | Gen: ethay airway onditiongcay isway orkingway\n",
            "Epoch:  92 | Train loss: 0.009 | Val loss: 0.104 | Gen: ethay airway onditiongcay isway orkingway\n",
            "Epoch:  93 | Train loss: 0.029 | Val loss: 0.096 | Gen: ethay airway onditiongcay isway orkingway\n",
            "Epoch:  94 | Train loss: 0.015 | Val loss: 0.088 | Gen: ethay airway onditioningcay isway orkingway\n",
            "Epoch:  95 | Train loss: 0.011 | Val loss: 0.105 | Gen: ethay airway onditiongcay isway orkingway\n",
            "Epoch:  96 | Train loss: 0.010 | Val loss: 0.084 | Gen: ethay airway onditiongcay isway orkingway\n",
            "Epoch:  97 | Train loss: 0.007 | Val loss: 0.096 | Gen: ethay airway onditiongcay isway orkingway\n",
            "Epoch:  98 | Train loss: 0.006 | Val loss: 0.088 | Gen: ethay airway onditiongcay isway orkingway\n",
            "Epoch:  99 | Train loss: 0.006 | Val loss: 0.094 | Gen: ethay airway onditiongcay isway orkingway\n",
            "source:\t\tthe air conditioning is working \n",
            "translated:\tethay airway onditiongcay isway orkingway\n"
          ],
          "name": "stdout"
        }
      ]
    },
    {
      "metadata": {
        "id": "ULCMHm5ZF7vx",
        "colab_type": "code",
        "outputId": "7183067d-31b8-41fb-fe3a-077bf54e5d7b",
        "colab": {
          "base_uri": "https://localhost:8080/",
          "height": 51
        }
      },
      "cell_type": "code",
      "source": [
        "TEST_SENTENCE = 'the air conditioning is working'\n",
        "translated = translate_sentence(TEST_SENTENCE, transformer_encoder, transformer_decoder, None, args)\n",
        "print(\"source:\\t\\t{} \\ntranslated:\\t{}\".format(TEST_SENTENCE, translated))"
      ],
      "execution_count": 275,
      "outputs": [
        {
          "output_type": "stream",
          "text": [
            "source:\t\tthe air conditioning is working \n",
            "translated:\tethay airway onditiningcay isway orkingway\n"
          ],
          "name": "stdout"
        }
      ]
    },
    {
      "metadata": {
        "id": "qbfZCByITOI6",
        "colab_type": "text"
      },
      "cell_type": "markdown",
      "source": [
        "# Attention visualization"
      ]
    },
    {
      "metadata": {
        "id": "itCGMv3FdXsn",
        "colab_type": "code",
        "colab": {}
      },
      "cell_type": "code",
      "source": [
        "TEST_WORD_ATTN = 'pleaseextendnextduedate'"
      ],
      "execution_count": 0,
      "outputs": []
    },
    {
      "metadata": {
        "id": "xBv4QQuBiU-V",
        "colab_type": "text"
      },
      "cell_type": "markdown",
      "source": [
        "## Visualize RNN attention map"
      ]
    },
    {
      "metadata": {
        "id": "aXvqoQYONMTA",
        "colab_type": "code",
        "outputId": "9a9f8533-2cc5-46de-966a-78b27aaa12f9",
        "colab": {
          "base_uri": "https://localhost:8080/",
          "height": 418
        }
      },
      "cell_type": "code",
      "source": [
        "visualize_attention(TEST_WORD_ATTN, rnn_attn_encoder, rnn_attn_decoder, None, args)"
      ],
      "execution_count": 294,
      "outputs": [
        {
          "output_type": "display_data",
          "data": {
            "image/png": "[encoded data removed]",
            "text/plain": [
              "<Figure size 576x396 with 2 Axes>"
            ]
          },
          "metadata": {
            "tags": []
          }
        },
        {
          "output_type": "execute_result",
          "data": {
            "text/plain": [
              "'easeextecteddoy'"
            ]
          },
          "metadata": {
            "tags": []
          },
          "execution_count": 294
        }
      ]
    },
    {
      "metadata": {
        "id": "xuOvxfA1NMz3",
        "colab_type": "text"
      },
      "cell_type": "markdown",
      "source": [
        "## Visualize transformer attention maps from all the transformer layers"
      ]
    },
    {
      "metadata": {
        "id": "HSSB4wd8-M7g",
        "colab_type": "code",
        "outputId": "1187a648-4214-4af4-8f25-815a2befba3a",
        "colab": {
          "base_uri": "https://localhost:8080/",
          "height": 1186
        }
      },
      "cell_type": "code",
      "source": [
        "visualize_attention(TEST_WORD_ATTN, transformer_encoder, transformer_decoder, None, args, )"
      ],
      "execution_count": 281,
      "outputs": [
        {
          "output_type": "display_data",
          "data": {
            "image/png": "[encoded data removed]",
            "text/plain": [
              "<Figure size 576x396 with 2 Axes>"
            ]
          },
          "metadata": {
            "tags": []
          }
        },
        {
          "output_type": "display_data",
          "data": {
            "image/png": "[encoded data removed]",
            "text/plain": [
              "<Figure size 576x396 with 2 Axes>"
            ]
          },
          "metadata": {
            "tags": []
          }
        },
        {
          "output_type": "display_data",
          "data": {
            "image/png": "[encoded data removed]",
            "text/plain": [
              "<Figure size 576x396 with 2 Axes>"
            ]
          },
          "metadata": {
            "tags": []
          }
        },
        {
          "output_type": "execute_result",
          "data": {
            "text/plain": [
              "'aaayEOSmarwyay'"
            ]
          },
          "metadata": {
            "tags": []
          },
          "execution_count": 281
        }
      ]
    }
  ]
}